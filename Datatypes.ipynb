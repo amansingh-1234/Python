{
  "nbformat": 4,
  "nbformat_minor": 0,
  "metadata": {
    "colab": {
      "provenance": []
    },
    "kernelspec": {
      "name": "python3",
      "display_name": "Python 3"
    },
    "language_info": {
      "name": "python"
    }
  },
  "cells": [
    {
      "cell_type": "markdown",
      "source": [
        "# DATA TYPES AND STRUCTURES QUESTIONS **ANSWERS**"
      ],
      "metadata": {
        "id": "V_emY-7eznNp"
      }
    },
    {
      "cell_type": "markdown",
      "source": [
        "1- What are data structures, and why are they important ?"
      ],
      "metadata": {
        "id": "Z11O-4700ACq"
      }
    },
    {
      "cell_type": "markdown",
      "source": [
        "ANS - Data structures are specialized formats for organinzing,storing,and accessing collections of data.They are important -\n",
        "*Choosing the right data structure significantly impacts the effciency and performanceof your program. * Well-chosen data structures can . * Simplify data manipulation (adding,removing,modifying elements).*conserve memory usage . * Optimize searching and storing operations."
      ],
      "metadata": {
        "id": "7y0BoYic0qMP"
      }
    },
    {
      "cell_type": "markdown",
      "source": [
        "2- Explain the difference between mutable and immutable data types with examples."
      ],
      "metadata": {
        "id": "plhNiLty4Db-"
      }
    },
    {
      "cell_type": "markdown",
      "source": [
        "ANS-Mutable data types can be modified after they are created .For example, in Python , list,sets are mutable data types. * Immutable data types cannot be changed after created . For example , in Python strings,tuples,integers and floats are immutable data types."
      ],
      "metadata": {
        "id": "ccn7lqh96Hbp"
      }
    },
    {
      "cell_type": "markdown",
      "source": [
        "3- What are main differences between lists and tuples in Python?"
      ],
      "metadata": {
        "id": "Mruly3Ao6_lo"
      }
    },
    {
      "cell_type": "markdown",
      "source": [
        "ANS- The main differences between lists and tuples in Python are that lists are mutable , while tuples are immutables."
      ],
      "metadata": {
        "id": "fuzd_HiB7P7U"
      }
    },
    {
      "cell_type": "markdown",
      "source": [
        "4-Describe how dictionarise store data."
      ],
      "metadata": {
        "id": "fymbEZ9B7vYZ"
      }
    },
    {
      "cell_type": "markdown",
      "source": [
        "ANS- Python's dictionary allows you to store key-value pairs, and then pass the dictionary a key to quickly retrive its corresponding value. Specially , you construct the dictionary by specifying one-way mappings from key-objects to value - objects. Each key must map to exactly one value , meaning that a key must be unique."
      ],
      "metadata": {
        "id": "lNTo83Zd76xO"
      }
    },
    {
      "cell_type": "markdown",
      "source": [
        "5- Why might you use a set instead of a list in Python ?"
      ],
      "metadata": {
        "id": "8iYwCDyW9HTc"
      }
    },
    {
      "cell_type": "markdown",
      "source": [
        "ANS- Because sets can not have multiple occurrences of the same element, it mkes sets highly useful to efficiently remove duplicates value from a list or a tuple and to perform common math operations like unions and intersections."
      ],
      "metadata": {
        "id": "G7rkSJSv9VNY"
      }
    },
    {
      "cell_type": "markdown",
      "source": [
        "6-What is a string in a Python,and how is it different from a list?"
      ],
      "metadata": {
        "id": "eoU3UOSK-EH0"
      }
    },
    {
      "cell_type": "markdown",
      "source": [
        "ANS - A string is a sequence of characters between single or double quotes.A strings length is the number of characters in the string and a list's length is the number of items in the list."
      ],
      "metadata": {
        "id": "xqNB0Kg7-UUZ"
      }
    },
    {
      "cell_type": "markdown",
      "source": [
        "7-How do tuples ensure data integrity in Python ?\n"
      ],
      "metadata": {
        "id": "G_bbtPQ1_X7l"
      }
    },
    {
      "cell_type": "markdown",
      "source": [
        "ANS- Tuples are immutable to ensure that their contents remain constant throughout their lifecycle, guaranteeing data integrity and reliablity. This immutability allows tuples to be used as keys in dictionaries and elements in sets, as they can be hashed."
      ],
      "metadata": {
        "id": "9Uc9Rwsx_kuB"
      }
    },
    {
      "cell_type": "markdown",
      "source": [
        "8-What is hash table,and how does it relate to dectionarise in Python?"
      ],
      "metadata": {
        "id": "W9vucqVeAmB_"
      }
    },
    {
      "cell_type": "markdown",
      "source": [
        "ANS-A hash table is a data structure that stores key-value pairs,and Python's dictionarise are the standard implementation of hash table."
      ],
      "metadata": {
        "id": "YvdXIlqvB6fg"
      }
    },
    {
      "cell_type": "markdown",
      "source": [
        "9-Can lists contain different data types in Python?\n"
      ],
      "metadata": {
        "id": "fMmc5qw2ChAU"
      }
    },
    {
      "cell_type": "markdown",
      "source": [
        "ANS- Athough it's not really common, a list can also contain a mix of Python types including strings,floats,and booleans."
      ],
      "metadata": {
        "id": "iLGbsWF-CtLO"
      }
    },
    {
      "cell_type": "markdown",
      "source": [
        "10-Explain why strings are immutable in Python."
      ],
      "metadata": {
        "id": "y8glp-tGDM8a"
      }
    },
    {
      "cell_type": "markdown",
      "source": [
        "ANS- Strings are immutable in Python because they cannot be changed after they are created."
      ],
      "metadata": {
        "id": "KWTQQxcqDXeE"
      }
    },
    {
      "cell_type": "markdown",
      "source": [
        "11-What advantages do dictionaries offer over lists for certain tasks?"
      ],
      "metadata": {
        "id": "ZJUVQlijDsY0"
      }
    },
    {
      "cell_type": "markdown",
      "source": [
        "ANS- Dictionaries have several advantages over lists , inculuding easier code readability,faster lookups,and better data organization."
      ],
      "metadata": {
        "id": "bgNrBT-gKlP9"
      }
    },
    {
      "cell_type": "markdown",
      "source": [
        "12-Describe a scenario where using a tuple would be preferable over a list."
      ],
      "metadata": {
        "id": "2kbD1pHiLKzf"
      }
    },
    {
      "cell_type": "markdown",
      "source": [
        "ANS-Tuples can't be changed after they are created, but lists can be modified. Tuples use less memory than lists. They are also a bit faster, especially when you are just looking up values . So its bettter to use tuples instead of lists."
      ],
      "metadata": {
        "id": "eK-lNpS1LaF7"
      }
    },
    {
      "cell_type": "markdown",
      "source": [
        "13-How do sets handle duplicate values in Python?"
      ],
      "metadata": {
        "id": "XxQZac4DMQJr"
      }
    },
    {
      "cell_type": "markdown",
      "source": [
        "ANS- Items of set in Python are immutable , do not duplicate values and unordered. Thus , items in a set do not appear in a stipulated manner,i.e.,they can appear in a different order every time it is used. Due to this , set items cannot be referred to by key or index."
      ],
      "metadata": {
        "id": "ceT0rgnQMbu0"
      }
    },
    {
      "cell_type": "markdown",
      "source": [
        "14-How does the \"in\" keyword work differently for lists and dictionarise?"
      ],
      "metadata": {
        "id": "-VKqDuPBNP18"
      }
    },
    {
      "cell_type": "markdown",
      "source": [
        "ANS- The key of the dictionary is a unique value as well as the set, and the executaion time is about the same as for sets. On the other hand, dictionary values can be duplicated like a list. The execution time of in for values () is about the same as for lists. Key-value pairsare unique."
      ],
      "metadata": {
        "id": "hfPkVOmYNex1"
      }
    },
    {
      "cell_type": "markdown",
      "source": [
        "15- Can you modify the elements of a tuple ? Explain why or why not ?"
      ],
      "metadata": {
        "id": "c9umm8RdOPaw"
      }
    },
    {
      "cell_type": "markdown",
      "source": [
        "ANS- No , you cannot directly modify the elements of a tuple in Python because tuples are immutable."
      ],
      "metadata": {
        "id": "iGu5NkfqOfvZ"
      }
    },
    {
      "cell_type": "markdown",
      "source": [
        "16- What is a nested dictionary, and give an example of its use case ?"
      ],
      "metadata": {
        "id": "6-ZK3OqYO04n"
      }
    },
    {
      "cell_type": "markdown",
      "source": [
        "ANS-A nested dictionary is a dictionary that is stored as a value within another dictionary.it is a powerful concept in programming that allows for storing data with multiple layers of organization. For example , *Employee records : Organize employees by the department, with each employee's details in a nested dictionary."
      ],
      "metadata": {
        "id": "sIDUMNohPDWP"
      }
    },
    {
      "cell_type": "markdown",
      "source": [
        "17-Describe the time complexity of accessing elements in a dictionary."
      ],
      "metadata": {
        "id": "fysli1mRQAhZ"
      }
    },
    {
      "cell_type": "markdown",
      "source": [
        "ANS-The tie complexity of accessing an element in a dictionary is O(1), which means it takes constant time."
      ],
      "metadata": {
        "id": "NDUtxM59QNOw"
      }
    },
    {
      "cell_type": "markdown",
      "source": [
        "18-In what situations are lists preferred over dictionaries?\n"
      ],
      "metadata": {
        "id": "ICOFZr1fQp4k"
      }
    },
    {
      "cell_type": "markdown",
      "source": [
        "ANS- If you need an ordered collection, like a sequence of user actions,lists are you go-to. On the other hand , when you need quick look-ups , like mapping usernames to user data , disctionarise are invaluable."
      ],
      "metadata": {
        "id": "e-_GDBpLQ1_M"
      }
    },
    {
      "cell_type": "markdown",
      "source": [
        "19-Why are disctionaries considered unorderd, and how does that effect data retrieval?"
      ],
      "metadata": {
        "id": "AEQLpTIJRbZ6"
      }
    },
    {
      "cell_type": "markdown",
      "source": [
        "ANS-Disctionaries considered unorderd because that iteams do not have a defined orderd , you cannot refer to an item by using an index. it ia affected by the type of data, the storage system,and the queries used to acess it."
      ],
      "metadata": {
        "id": "pa0dXH_YRukl"
      }
    },
    {
      "cell_type": "markdown",
      "source": [
        "20-Explain the difference between a list and a dictionary in terms of data retrival."
      ],
      "metadata": {
        "id": "jsYnzDN4S7Hy"
      }
    },
    {
      "cell_type": "markdown",
      "source": [
        "ANS- A list is an ordered collectin of items , whereas a dictionary is an unordered data collection in a key: value pair. Elements from the list can be accessed using index. while the elements of the dectionary can be accessed using keys."
      ],
      "metadata": {
        "id": "pmW6-SbVTPGW"
      }
    },
    {
      "cell_type": "markdown",
      "source": [],
      "metadata": {
        "id": "qf-Akm9SZGvs"
      }
    },
    {
      "cell_type": "markdown",
      "source": [
        "# PRACTICAL QUESTIONS **ANSWERS**"
      ],
      "metadata": {
        "id": "9DZsRJ7YZIAJ"
      }
    },
    {
      "cell_type": "code",
      "source": [
        "# Write a code to create a string with your name and print it.\n",
        "...\n",
        "name = \"Rahul\"\n",
        "print(name)\n",
        "...\n"
      ],
      "metadata": {
        "id": "wzOBT_vLZX2i",
        "colab": {
          "base_uri": "https://localhost:8080/"
        },
        "outputId": "ef643d0e-91fe-4cfb-9208-e358b4658e47"
      },
      "execution_count": 2,
      "outputs": [
        {
          "output_type": "stream",
          "name": "stdout",
          "text": [
            "Rahul\n"
          ]
        }
      ]
    },
    {
      "cell_type": "code",
      "source": [
        "# Write a code to find the length of the string \"Hello World\".\n",
        "...\n",
        "string = \"Hello World!\"\n",
        "print(len(string))\n",
        "..."
      ],
      "metadata": {
        "colab": {
          "base_uri": "https://localhost:8080/"
        },
        "id": "rRmvCAp2a_Q6",
        "outputId": "364abc5d-0ad5-4f3c-bfd9-83796853a1a9"
      },
      "execution_count": 5,
      "outputs": [
        {
          "output_type": "stream",
          "name": "stdout",
          "text": [
            "12\n"
          ]
        }
      ]
    },
    {
      "cell_type": "code",
      "source": [
        "# Write a code to slice the first 3 characters from the string \"Python Programming\".\n",
        "...\n",
        "string = \"Python Programming\"\n",
        "print(string[:3])\n",
        "..."
      ],
      "metadata": {
        "colab": {
          "base_uri": "https://localhost:8080/"
        },
        "id": "SMy_TivJc-sI",
        "outputId": "d977e920-2c05-4f46-c340-ce3cd9895d9b"
      },
      "execution_count": 8,
      "outputs": [
        {
          "output_type": "stream",
          "name": "stdout",
          "text": [
            "Pyt\n"
          ]
        }
      ]
    },
    {
      "cell_type": "code",
      "source": [
        "# Write a code to convert the string \"hello\" to uppercase.\n",
        "...\n",
        "string = \"hello\"\n",
        "print(string.upper())\n",
        "..."
      ],
      "metadata": {
        "colab": {
          "base_uri": "https://localhost:8080/"
        },
        "id": "q1ARDijkbbB4",
        "outputId": "97404f4a-53fa-4abb-df8f-2abeaba2c18c"
      },
      "execution_count": 9,
      "outputs": [
        {
          "output_type": "stream",
          "name": "stdout",
          "text": [
            "HELLO\n"
          ]
        }
      ]
    },
    {
      "cell_type": "code",
      "source": [
        "# Write a code to replace the word \"apple\" with \"orange\" in the string \"I like apple\"\n",
        "...\n",
        "string = \"I like apple\"\n",
        "print(string.replace(\"apple\", \"orange\"))\n",
        "...\n"
      ],
      "metadata": {
        "colab": {
          "base_uri": "https://localhost:8080/"
        },
        "id": "dBtVFh3Ae_5D",
        "outputId": "0a1506cd-504a-41a1-c89f-1f47c8ccd62d"
      },
      "execution_count": 10,
      "outputs": [
        {
          "output_type": "stream",
          "name": "stdout",
          "text": [
            "I like orange\n"
          ]
        }
      ]
    },
    {
      "cell_type": "code",
      "source": [
        "# Write a code to create a list with numbers 1 to 5 and print it .\n",
        "...\n",
        "list = [1, 2, 3, 4, 5]\n",
        "print(list)\n",
        "..."
      ],
      "metadata": {
        "colab": {
          "base_uri": "https://localhost:8080/"
        },
        "id": "xpCVBktMfy9I",
        "outputId": "6e039ee4-ddf0-462d-a5cc-461041d9de88"
      },
      "execution_count": 11,
      "outputs": [
        {
          "output_type": "stream",
          "name": "stdout",
          "text": [
            "[1, 2, 3, 4, 5]\n"
          ]
        }
      ]
    },
    {
      "cell_type": "code",
      "source": [
        "#Write a code to append the number 10 to the list [1,2,3,4].\n",
        "...\n",
        "list = [1, 2, 3, 4]\n",
        "list.append(10)\n",
        "print(list)\n",
        "..."
      ],
      "metadata": {
        "colab": {
          "base_uri": "https://localhost:8080/"
        },
        "id": "M-1lE5r2gOjv",
        "outputId": "9b1f856b-f684-4f21-8d6b-ab5adff28ba3"
      },
      "execution_count": 12,
      "outputs": [
        {
          "output_type": "stream",
          "name": "stdout",
          "text": [
            "[1, 2, 3, 4, 10]\n"
          ]
        }
      ]
    },
    {
      "cell_type": "code",
      "source": [
        "# Write a code to remove the number3 from the list [1,2,3,4,5].\n",
        "...\n",
        "list = [1, 2, 3, 4, 5]\n",
        "list.remove(3)\n",
        "print(list)\n",
        "..."
      ],
      "metadata": {
        "colab": {
          "base_uri": "https://localhost:8080/"
        },
        "id": "Iyx0mx1dg2FC",
        "outputId": "774fb6a8-947f-4d8d-eefc-5fb37c39c81f"
      },
      "execution_count": 13,
      "outputs": [
        {
          "output_type": "stream",
          "name": "stdout",
          "text": [
            "[1, 2, 4, 5]\n"
          ]
        }
      ]
    },
    {
      "cell_type": "code",
      "source": [
        "# Write a code to access the second element in list ['a','b','c','d'].\n",
        "...\n",
        "list = ['a','b','c','d']\n",
        "print(list[1])\n",
        "..."
      ],
      "metadata": {
        "colab": {
          "base_uri": "https://localhost:8080/"
        },
        "id": "ZE-bB0QEhnJk",
        "outputId": "e04e0c16-8617-4308-cabf-49520cf366b0"
      },
      "execution_count": 14,
      "outputs": [
        {
          "output_type": "stream",
          "name": "stdout",
          "text": [
            "b\n"
          ]
        }
      ]
    },
    {
      "cell_type": "code",
      "source": [
        "# Write a code to reverse the list [10,20,30,40,50].\n",
        "...\n",
        "list = [10,20,30,40,50]\n",
        "list.reverse()\n",
        "print(list)\n",
        "..."
      ],
      "metadata": {
        "colab": {
          "base_uri": "https://localhost:8080/"
        },
        "id": "DKmiNAdIiXH5",
        "outputId": "bd35a566-e272-4cc8-a3b0-0aa805e20f74"
      },
      "execution_count": 15,
      "outputs": [
        {
          "output_type": "stream",
          "name": "stdout",
          "text": [
            "[50, 40, 30, 20, 10]\n"
          ]
        }
      ]
    },
    {
      "cell_type": "code",
      "source": [
        "# Write a code to create a tuple with the elements 10,20,30 and print it.\n",
        "...\n",
        "tuple = (10,20,30)\n",
        "print(tuple)\n",
        "..."
      ],
      "metadata": {
        "colab": {
          "base_uri": "https://localhost:8080/"
        },
        "id": "J7EoRUCjlVJ4",
        "outputId": "e98ea504-fdc3-4dbc-ceb4-985b4cd709ec"
      },
      "execution_count": 16,
      "outputs": [
        {
          "output_type": "stream",
          "name": "stdout",
          "text": [
            "(10, 20, 30)\n"
          ]
        }
      ]
    },
    {
      "cell_type": "code",
      "source": [
        "# Write a code to access the first element of the tuple ('apple','banana',cherry').\n",
        "...\n",
        "tuple = ('apple','banana','cherry')\n",
        "print(tuple)\n",
        "..."
      ],
      "metadata": {
        "colab": {
          "base_uri": "https://localhost:8080/"
        },
        "id": "zVECHapMl44f",
        "outputId": "b162b40b-5d45-48f8-fb4a-f69427d7b724"
      },
      "execution_count": 17,
      "outputs": [
        {
          "output_type": "stream",
          "name": "stdout",
          "text": [
            "('apple', 'banana', 'cherry')\n"
          ]
        }
      ]
    },
    {
      "cell_type": "code",
      "source": [
        "# Write a code to count how many times the number 2 appears in the tuple (1,2,3,2,4,2).\n",
        "...\n",
        "tuple = (1,2,3,2,4,2)\n",
        "print(tuple.count(2))\n",
        "..."
      ],
      "metadata": {
        "colab": {
          "base_uri": "https://localhost:8080/"
        },
        "id": "cVpHEWQ6mlfD",
        "outputId": "720dba8e-c3cf-48c4-f3f1-838f59e545b8"
      },
      "execution_count": 18,
      "outputs": [
        {
          "output_type": "stream",
          "name": "stdout",
          "text": [
            "3\n"
          ]
        }
      ]
    },
    {
      "cell_type": "code",
      "source": [
        "# Write a code to find the index of the element \"cat\" in the tuple ('dog','cat','rabbit').\n",
        "...\n",
        "tuple = ('dog','cat','rabbit')\n",
        "print(tuple.index('cat'))\n",
        "..."
      ],
      "metadata": {
        "colab": {
          "base_uri": "https://localhost:8080/"
        },
        "id": "lxSsLw60nLtP",
        "outputId": "cf65013a-edf7-47a7-fbe4-5a378d3feacb"
      },
      "execution_count": 19,
      "outputs": [
        {
          "output_type": "stream",
          "name": "stdout",
          "text": [
            "1\n"
          ]
        }
      ]
    },
    {
      "cell_type": "code",
      "source": [
        "# Write a code to check if the element \"banana\" is in the tuple ('apple','orange','banana').\n",
        "...\n",
        "tuple = ('apple','orange','banana')\n",
        "print('banana'in tuple )\n",
        "..."
      ],
      "metadata": {
        "colab": {
          "base_uri": "https://localhost:8080/"
        },
        "id": "yemZeyK3n3s_",
        "outputId": "cb5f690b-3ba2-40c7-8b47-4184b70ab3be"
      },
      "execution_count": 21,
      "outputs": [
        {
          "output_type": "stream",
          "name": "stdout",
          "text": [
            "True\n"
          ]
        }
      ]
    },
    {
      "cell_type": "code",
      "source": [
        "# Write a code to create a set with the elements 1,2,3,4,5 and print it.\n",
        "...\n",
        "set = {1,2,3,4,5}\n",
        "print(set)\n",
        "...\n"
      ],
      "metadata": {
        "colab": {
          "base_uri": "https://localhost:8080/"
        },
        "id": "X4Vn1QtFo1SU",
        "outputId": "8790d029-9e2b-41b7-d0cd-5a57f78eebfc"
      },
      "execution_count": 22,
      "outputs": [
        {
          "output_type": "stream",
          "name": "stdout",
          "text": [
            "{1, 2, 3, 4, 5}\n"
          ]
        }
      ]
    },
    {
      "cell_type": "code",
      "source": [
        "# Write a code to add the element 6 to the set {1,2,3,4}\n",
        "...\n",
        "set = {1,2,3,4}\n",
        "print(set.add(6))\n",
        "..."
      ],
      "metadata": {
        "colab": {
          "base_uri": "https://localhost:8080/"
        },
        "id": "zsu1vcm9pOkg",
        "outputId": "877af354-5073-46ea-dbc0-98e92ca4de93"
      },
      "execution_count": 23,
      "outputs": [
        {
          "output_type": "stream",
          "name": "stdout",
          "text": [
            "None\n"
          ]
        }
      ]
    },
    {
      "cell_type": "code",
      "source": [
        "# Write a code to create a tuple with the elements 10,20,30 and print it.\n",
        "...\n",
        "tuple = (10,20,30)\n",
        "print(tuple)\n",
        "..."
      ],
      "metadata": {
        "colab": {
          "base_uri": "https://localhost:8080/"
        },
        "id": "6_8GTwbfp-VS",
        "outputId": "3529d9e7-6f65-4e4a-e4a4-1e6bd60d4d18"
      },
      "execution_count": 24,
      "outputs": [
        {
          "output_type": "stream",
          "name": "stdout",
          "text": [
            "(10, 20, 30)\n"
          ]
        }
      ]
    }
  ]
}