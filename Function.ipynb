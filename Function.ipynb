{
  "nbformat": 4,
  "nbformat_minor": 0,
  "metadata": {
    "colab": {
      "provenance": []
    },
    "kernelspec": {
      "name": "python3",
      "display_name": "Python 3"
    },
    "language_info": {
      "name": "python"
    }
  },
  "cells": [
    {
      "cell_type": "markdown",
      "source": [
        "# FUNCTIONS THEORY QUESTIONS **ANSWERS**"
      ],
      "metadata": {
        "id": "qcd-gFS0r3tB"
      }
    },
    {
      "cell_type": "markdown",
      "source": [
        "1- What is the difference between a function and a method in Python ?"
      ],
      "metadata": {
        "id": "0sFS0fJbsLNM"
      }
    },
    {
      "cell_type": "markdown",
      "source": [
        "ANS - In Python, a function is an independent entity that can be called by name, while a method is a function that is defined within a class and is called by the class name.\n",
        "**Example**- *  The print() function is a built-in function that generates output by turning expressions into strings.\n",
        "* List methods include append(),copy(),count(),extend(),index(),insert(),pop(),and remove()."
      ],
      "metadata": {
        "id": "sHfXIz9_saux"
      }
    },
    {
      "cell_type": "markdown",
      "source": [
        "2- Explain the concept of function agruments and parameters in Python ?"
      ],
      "metadata": {
        "id": "S335cvM-uCNN"
      }
    },
    {
      "cell_type": "markdown",
      "source": [
        "ANS- In Python, function arguments are the values passed into a function , while function parameters are the variables listed in the function definition.\n",
        "**Example-**"
      ],
      "metadata": {
        "id": "7am4B9TCuSs7"
      }
    },
    {
      "cell_type": "code",
      "source": [
        "# Here a,b are the parameters\n",
        "...\n",
        "def sum(a,b):\n",
        "  print(a+b)\n",
        "\n",
        "sum(1,2)\n",
        "..."
      ],
      "metadata": {
        "colab": {
          "base_uri": "https://localhost:8080/"
        },
        "id": "OHWeI0iYvl8s",
        "outputId": "5b7f4ef7-9d23-4455-9421-8af4815df3f9"
      },
      "execution_count": 1,
      "outputs": [
        {
          "output_type": "stream",
          "name": "stdout",
          "text": [
            "3\n"
          ]
        }
      ]
    },
    {
      "cell_type": "code",
      "source": [
        "def sum(a,b):\n",
        "  print(a+b)\n",
        "\n",
        "# Here the values 1,2 are arguments\n",
        "sum(1,2)"
      ],
      "metadata": {
        "colab": {
          "base_uri": "https://localhost:8080/"
        },
        "id": "r67yxEfbwDcA",
        "outputId": "2ee15e5d-0a81-44b4-a514-064aa05cf89f"
      },
      "execution_count": 2,
      "outputs": [
        {
          "output_type": "stream",
          "name": "stdout",
          "text": [
            "3\n"
          ]
        }
      ]
    },
    {
      "cell_type": "markdown",
      "source": [
        "3- What are the different ways to define and call a function in Python ?"
      ],
      "metadata": {
        "id": "vmssVwOkxIAF"
      }
    },
    {
      "cell_type": "markdown",
      "source": [
        "ANS - To define and call a function in Python , you can use the def keyword , the function name,and parentheses.You can pass arguments into the function,and the function can return a value.\n",
        "**Example-**"
      ],
      "metadata": {
        "id": "bXwRHu0JxakA"
      }
    },
    {
      "cell_type": "code",
      "source": [
        "# Greeting function\n",
        "# Definition :\n",
        "def greeting(name)\n",
        "print(\"Hello, \" + name + \"! How are you ?\")\n",
        "# Call:\n",
        "greetting(\"Alice\")"
      ],
      "metadata": {
        "id": "BYNL8YC2ztdW"
      },
      "execution_count": null,
      "outputs": []
    },
    {
      "cell_type": "code",
      "source": [
        "# Printing \" Hello World\" function.\n",
        "#Definition:\n",
        "def hello():\n",
        "  print(\"Hello World\")\n",
        "\n",
        "#Call:\n",
        "myfunction()"
      ],
      "metadata": {
        "id": "6zc5ukkW01Zv"
      },
      "execution_count": null,
      "outputs": []
    },
    {
      "cell_type": "code",
      "source": [
        "# Multiplying numbers function\n",
        "#Definition:\n",
        "def multiply(a,b):\n",
        "  return a*b"
      ],
      "metadata": {
        "id": "U7xv6UyU1cnE"
      },
      "execution_count": null,
      "outputs": []
    },
    {
      "cell_type": "markdown",
      "source": [
        "4- What is the purpose of the 'return' statement in a Python function?"
      ],
      "metadata": {
        "id": "u3BgoJ_L115d"
      }
    },
    {
      "cell_type": "markdown",
      "source": [
        "ANS- The return statement in Python sends the result of a function back to the caller. This allow you to use the result in other parts of your program.\n",
        "\n",
        "Example-\n",
        "* Returning a string, calculating area, Getting user email ,calculating a square."
      ],
      "metadata": {
        "id": "wQGhR7vj2JLQ"
      }
    },
    {
      "cell_type": "markdown",
      "source": [
        "5- What are iterators in Python and how do they differ from iterables."
      ],
      "metadata": {
        "id": "A6Oi2Nmi3Lqf"
      }
    },
    {
      "cell_type": "markdown",
      "source": [
        "ANS- Iterable is an object, that one can iterate over. It generates an iterator when passed to Iter().mehod.\n",
        "An iterator is an object which is used to iterate over an iterable object using the __next__()_method.Iterators have the__next__() method , which returns the next item of the object.\n",
        "Every iterator is also an iterable, but not every iterable is an iterator in Python.\n",
        "For example--- A list is iterable but a list is not a iterator."
      ],
      "metadata": {
        "id": "mhOxXfB83bz5"
      }
    },
    {
      "cell_type": "markdown",
      "source": [
        "6-Explain the concept of the generators in Python and how they are defined.\n"
      ],
      "metadata": {
        "id": "u9l17BCR5i5Y"
      }
    },
    {
      "cell_type": "markdown",
      "source": [
        "ANS-In Python, a generator is a function that produces a sequences of values on demand, rather than computing and storing all the values at once. Generators are useful for handling large or infinite stream of data , like sensor data, log streams , or live feeds from APLs.\n",
        "Example--\n",
        "* Range Generator , Fibonacci sequence , Unique IDs , Reading Large files."
      ],
      "metadata": {
        "id": "BKAqFIMf5w1d"
      }
    },
    {
      "cell_type": "markdown",
      "source": [
        "7- What are the advantages of using generators over regular functions ?\n"
      ],
      "metadata": {
        "id": "cQcyhT9I7LPo"
      }
    },
    {
      "cell_type": "markdown",
      "source": [
        "ANS- Generators have several advantages over regular functions , including memory efficiency , performance, and readability.\n",
        "Generators can simplify code for iterating over datasets.\n",
        "Generators can encapsulate logic for producing sequences or iterating over data"
      ],
      "metadata": {
        "id": "J4We0wQf7eJy"
      }
    },
    {
      "cell_type": "markdown",
      "source": [
        "8-What is a lambda function in Python and when is it typically  used ?\n"
      ],
      "metadata": {
        "id": "rvRal3w68kBQ"
      }
    },
    {
      "cell_type": "markdown",
      "source": [
        "ANS- A lambda function in Python is a short , anonymous function thats defined in a single line .Lambda function are used when you need a function object and want to write a simple , concise function.\n",
        "\n",
        "Example--"
      ],
      "metadata": {
        "id": "7ddz-psxA3M9"
      }
    },
    {
      "cell_type": "code",
      "source": [
        "square = lambda x: x**2\n",
        "print(square(5))\n"
      ],
      "metadata": {
        "colab": {
          "base_uri": "https://localhost:8080/"
        },
        "id": "wZB4iozlBuFR",
        "outputId": "66728953-9ffb-4f5d-c8f3-fd1a0c4c2695"
      },
      "execution_count": 3,
      "outputs": [
        {
          "output_type": "stream",
          "name": "stdout",
          "text": [
            "25\n"
          ]
        }
      ]
    },
    {
      "cell_type": "markdown",
      "source": [
        "9-Explain the purpose and usage of the 'map()'function in Python."
      ],
      "metadata": {
        "id": "7pt6XEEkCEBX"
      }
    },
    {
      "cell_type": "markdown",
      "source": [
        "ANS-The map function applies a given function to all items in an input iterable (like a list) and returns an iterator with the results.\n",
        "It is used to transform each item in an iterable by applying the specified function.\n",
        "\n",
        "Example---"
      ],
      "metadata": {
        "id": "CcH1MwC_CYOh"
      }
    },
    {
      "cell_type": "code",
      "source": [
        "numbers = [1, 2, 3,4]\n",
        "squared = map(lambda x: x**2, numbers)\n",
        "print(list(squared))"
      ],
      "metadata": {
        "colab": {
          "base_uri": "https://localhost:8080/"
        },
        "id": "6VFLr1dbDEoB",
        "outputId": "7fc58f58-ec97-43d9-a64a-2ba65d37a915"
      },
      "execution_count": 4,
      "outputs": [
        {
          "output_type": "stream",
          "name": "stdout",
          "text": [
            "[1, 4, 9, 16]\n"
          ]
        }
      ]
    },
    {
      "cell_type": "markdown",
      "source": [
        "10- What is the difference between 'map()','reduce()'and 'filter()' functions in Python ?"
      ],
      "metadata": {
        "id": "9ek0xoqwDhQR"
      }
    },
    {
      "cell_type": "markdown",
      "source": [
        "ANS- The map function used to traonsform each item in an iterable by applying the specified function while the reduce function reduces an iterable to a single cumulative value by applying rhe function cumulative and the filter function used for filtering elements from an iterable based on a condition defined by function.\n",
        "\n",
        "Example---"
      ],
      "metadata": {
        "id": "hPjNgh2SD75x"
      }
    },
    {
      "cell_type": "code",
      "source": [
        "#map function\n",
        "numbers = [1, 2,3,4]\n",
        "squared = map(lambda x: x**2, numbers)\n",
        "print(list(squared))"
      ],
      "metadata": {
        "colab": {
          "base_uri": "https://localhost:8080/"
        },
        "id": "xP2QLOv4FVep",
        "outputId": "80bf3025-afc7-4a80-aaa9-7bc01c25fcf5"
      },
      "execution_count": 5,
      "outputs": [
        {
          "output_type": "stream",
          "name": "stdout",
          "text": [
            "[1, 4, 9, 16]\n"
          ]
        }
      ]
    },
    {
      "cell_type": "code",
      "source": [
        "#reduce function\n",
        "from functools import reduce\n",
        "numbers = [1, 2, 3, 4, 5]\n",
        "sum = reduce(lambda x, y:x+y, numbers)\n",
        "print(sum)"
      ],
      "metadata": {
        "colab": {
          "base_uri": "https://localhost:8080/"
        },
        "id": "SeS_nq-AFzdu",
        "outputId": "0f7200dc-0d29-400f-e240-a896c9a86103"
      },
      "execution_count": 6,
      "outputs": [
        {
          "output_type": "stream",
          "name": "stdout",
          "text": [
            "15\n"
          ]
        }
      ]
    },
    {
      "cell_type": "code",
      "source": [
        "#filter function\n",
        "numbers = [1, 2, 3, 4, 5]\n",
        "even = filter(lambda x: x % 2 == 0,numbers)\n",
        "print(list(even))"
      ],
      "metadata": {
        "colab": {
          "base_uri": "https://localhost:8080/"
        },
        "id": "oYUvnNyCGWYX",
        "outputId": "a057005e-5bda-4412-de63-f168f8e0ea77"
      },
      "execution_count": 7,
      "outputs": [
        {
          "output_type": "stream",
          "name": "stdout",
          "text": [
            "[2, 4]\n"
          ]
        }
      ]
    },
    {
      "cell_type": "markdown",
      "source": [
        "11- Using pen and paper write the internal mechanism for sum operation using reduce function on this given list:[47,11,42,13]."
      ],
      "metadata": {
        "id": "SnZj4VSZG5gJ"
      }
    },
    {
      "cell_type": "markdown",
      "source": [
        "ANS-The reduce (fun,seq) function is used to apply a particular function passed in its argument to all of the list elements."
      ],
      "metadata": {
        "id": "9IU1aJYMHiQ6"
      }
    },
    {
      "cell_type": "markdown",
      "source": [
        "# FUNCTIONS PRACTICAL QUESTIONS **ANSWERS**"
      ],
      "metadata": {
        "id": "kqPTwJWPHjrN"
      }
    },
    {
      "cell_type": "markdown",
      "source": [],
      "metadata": {
        "id": "hV15FeBBwhVr"
      }
    },
    {
      "cell_type": "code",
      "source": [
        "# Write a Python function that takes a list of numbers as input and returns the sum of all even numbers in the list.\n",
        "...\n",
        "def sum_even_numbers(numbers):\n",
        "  sum = 0\n",
        "  for num in numbers:\n",
        "    if num % 2 == 0:\n",
        "      sum += num\n",
        "      return sum\n",
        "      numbers = [1,2,3,4,5,6,7,8,9,10]\n",
        "      result = sum_even_numbers(numbers)\n",
        "      print(result)\n",
        "..."
      ],
      "metadata": {
        "id": "3mcYxkzbH2aM"
      },
      "execution_count": 13,
      "outputs": []
    },
    {
      "cell_type": "code",
      "source": [
        "# Create a Python function that accepts a string and returns the reverse of that string.\n",
        "...\n",
        "s = \"GeekforGeeks\"\n",
        "reversedstring = s[::-1]\n",
        "print(reversedstring)\n",
        "..."
      ],
      "metadata": {
        "colab": {
          "base_uri": "https://localhost:8080/"
        },
        "id": "bG2NoirZIpYo",
        "outputId": "14d7ceb2-5319-42c4-cd9a-a5b11e8465e1"
      },
      "execution_count": 15,
      "outputs": [
        {
          "output_type": "stream",
          "name": "stdout",
          "text": [
            "skeeGrofkeeG\n"
          ]
        }
      ]
    },
    {
      "cell_type": "code",
      "source": [
        "#Implement a Python function that takes a list of integers and returns a new list containing the squares of each number.\n",
        "...\n",
        "def square_numbers(numbers):\n",
        "  squares = []\n",
        "  for num in numbers:\n",
        "    squares.append(num**2)\n",
        "    return squares # Removed the colon after return squares\n",
        "    numbers = [1,2,3,4,5]\n",
        "    result = square_numbers(numbers)\n",
        "    print(result)\n",
        "..."
      ],
      "metadata": {
        "id": "-p1c0Gu7MDKE"
      },
      "execution_count": 19,
      "outputs": []
    },
    {
      "cell_type": "code",
      "source": [
        "#Write a Python function that checks if a given number is a prime or not from 1 to 200.\n",
        "...\n",
        "def is_prime(number): # Changed 'is prime ' to is_prime\n",
        "\n",
        "  if number < 2:\n",
        "    return False\n",
        "    for i in range(2, int(number**0.5) +1): # Added +1 to include the\n",
        "\n",
        "      if number % i == 0:\n",
        "        return False\n",
        "        return True\n",
        "        number = 29\n",
        "        result = is_prime(number)\n",
        "        print(result)"
      ],
      "metadata": {
        "id": "D5MAPlDvOBAI"
      },
      "execution_count": 23,
      "outputs": []
    },
    {
      "cell_type": "code",
      "source": [
        "# Create an iterator class in Python that generates the Fibonacci sequence up to a specified number of terms.\n",
        "...\n",
        "def fibonacci_sequence(n):\n",
        "  a,b = 0,1\n",
        "  for _ in range(n):\n",
        "    yield a\n",
        "    a,b = b,a+b\n",
        "    for term in fibonacci_sequence(10):\n",
        "      print(term)\n",
        "  ..."
      ],
      "metadata": {
        "id": "Dobq8IeLQOgW"
      },
      "execution_count": 24,
      "outputs": []
    },
    {
      "cell_type": "code",
      "source": [
        "# Write a generators function in Python that yields the powers of 2 up to a given exponent.\n",
        "...\n",
        "def power_of_two(exponent):\n",
        "  for i in range(exponent+1):\n",
        "\n",
        "   yield 2**i\n",
        "   for power in power_of_two(4):\n",
        "    print(power)\n"
      ],
      "metadata": {
        "id": "2d-PqkyURz4e"
      },
      "execution_count": 27,
      "outputs": []
    },
    {
      "cell_type": "code",
      "source": [
        "# Implement a generator function function that reads a file line by line and yields each line as a string.\n",
        "...\n",
        "def read_file_lines(filename):\n",
        "  with open(filename, 'r') as file:\n",
        "    for line in file:\n",
        "      yield line\n",
        "      for line in read_file_lines('example.txt'):\n",
        "        print(line.strip())"
      ],
      "metadata": {
        "id": "uReyAe2sTjbg"
      },
      "execution_count": 28,
      "outputs": []
    },
    {
      "cell_type": "code",
      "source": [
        "# Use a lambda function in Python to sort a list of tuples based on the second element of each tuple.\n",
        "...\n",
        "data = [(1,5), (3,2), (2,8), (4,1)]\n",
        "sorted_data = sorted(data, key=lambda x: x[1])\n",
        "print(sorted_data)"
      ],
      "metadata": {
        "colab": {
          "base_uri": "https://localhost:8080/"
        },
        "id": "kEb0mBolUyV_",
        "outputId": "c5e1b78c-c7a5-4c39-dcdd-a1aec2083a9b"
      },
      "execution_count": 30,
      "outputs": [
        {
          "output_type": "stream",
          "name": "stdout",
          "text": [
            "[(4, 1), (3, 2), (1, 5), (2, 8)]\n"
          ]
        }
      ]
    },
    {
      "cell_type": "code",
      "source": [
        "# Write a Python program that uses 'map()' to convert a list of temperatures from celsius to Fahrenheit.\n",
        "...\n",
        "celsius_temperatures = [0, 10, 20, 30, 40]\n",
        "fahrenheit_temperatures = list(map(lambda c: (c * 9/5 ) + 32, celsius_temperatures))\n",
        "print(fahrenheit_temperatures)"
      ],
      "metadata": {
        "colab": {
          "base_uri": "https://localhost:8080/"
        },
        "id": "yYRq_gZHWngV",
        "outputId": "919a73f4-a2c3-4b54-8a29-3f1e6435df93"
      },
      "execution_count": 32,
      "outputs": [
        {
          "output_type": "stream",
          "name": "stdout",
          "text": [
            "[32.0, 50.0, 68.0, 86.0, 104.0]\n"
          ]
        }
      ]
    },
    {
      "cell_type": "code",
      "source": [
        "# Create a Python program that uses'filter()' to remove all the vowels from a given string.\n",
        "...\n",
        "def remove_vowels(string):\n",
        "  vowels = 'aeiouAEIOU'\n",
        "  filtered_string = ''\n",
        "  for char in string:\n",
        "    if char not in vowels:\n",
        "      filtered_string += char\n",
        "      return filtered_string\n",
        "      input_string = \"Hello, World!\"\n",
        "      print(remove_vowels(input_string))\n"
      ],
      "metadata": {
        "id": "lTreK5kXXzE9"
      },
      "execution_count": 34,
      "outputs": []
    },
    {
      "cell_type": "code",
      "source": [
        "# Write a Python program, which returns a list with 2-tuples. Each tuple consist of the order number and the product of the price per item and the quantity . The product should be increased by 10,-$ if the value of the order is smaller than 100,00$.\n",
        "...\n",
        "number = [40.95, 56.80, 32.95, 24.99]\n"
      ],
      "metadata": {
        "id": "VMasS018bclk"
      },
      "execution_count": 37,
      "outputs": []
    },
    {
      "cell_type": "code",
      "source": [
        "#Write a Python program using lambda and map.\n",
        "...\n",
        "numbers = [4,5,3,3]\n",
        "squared_numbers = list(map(lambda x: x**2, numbers))\n",
        "print(squared_numbers)"
      ],
      "metadata": {
        "id": "FrxyLr5kc14W",
        "outputId": "dbb51f77-a781-4a55-93d8-1ad7765156af",
        "colab": {
          "base_uri": "https://localhost:8080/"
        }
      },
      "execution_count": 36,
      "outputs": [
        {
          "output_type": "stream",
          "name": "stdout",
          "text": [
            "[16, 25, 9, 9]\n"
          ]
        }
      ]
    }
  ]
}