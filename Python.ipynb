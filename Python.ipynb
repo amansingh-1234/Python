{
  "nbformat": 4,
  "nbformat_minor": 0,
  "metadata": {
    "colab": {
      "provenance": []
    },
    "kernelspec": {
      "name": "python3",
      "display_name": "Python 3"
    },
    "language_info": {
      "name": "python"
    }
  },
  "cells": [
    {
      "cell_type": "code",
      "execution_count": null,
      "metadata": {
        "id": "llXyQWwHFHrC"
      },
      "outputs": [],
      "source": []
    },
    {
      "cell_type": "markdown",
      "source": [],
      "metadata": {
        "id": "mnHuejMCOteY"
      }
    },
    {
      "cell_type": "markdown",
      "source": [
        "# PYTHON BASICS QUESTIONS ANSWERS"
      ],
      "metadata": {
        "id": "hGJo73ElFwx1"
      }
    },
    {
      "cell_type": "markdown",
      "source": [
        "1-What is Python , and why is it popular ?"
      ],
      "metadata": {
        "id": "Zgo4jjHZF7I0"
      }
    },
    {
      "cell_type": "markdown",
      "source": [
        "ANS- Python is a programming language that is easy to understand and write , making it a popular choice among developers and programmers.It is compatible with various programming paradigms such as procedural and it has large and active community of developers."
      ],
      "metadata": {
        "id": "lPRmE0XeGKPQ"
      }
    },
    {
      "cell_type": "markdown",
      "source": [
        "2- What is an interpreter in Python ?"
      ],
      "metadata": {
        "id": "a-TzSLIgHacz"
      }
    },
    {
      "cell_type": "markdown",
      "source": [
        "ANS - A Python interpreter is a type of software program that reads and executes Python code line by line ."
      ],
      "metadata": {
        "id": "9BeOjYlUHu6h"
      }
    },
    {
      "cell_type": "markdown",
      "source": [
        "3- What are pre-defined keywords in Python ?"
      ],
      "metadata": {
        "id": "kG9QrY9EIlYr"
      }
    },
    {
      "cell_type": "markdown",
      "source": [
        "ANS - In Python , pre - defined keywords are reserved words that have special meanings and cannot be used as identifiers (variable name , function name etc. ) Example -if , for int etc."
      ],
      "metadata": {
        "id": "CAcZ34HjI84q"
      }
    },
    {
      "cell_type": "markdown",
      "source": [
        "4-Can keywords be used as variable names ?"
      ],
      "metadata": {
        "id": "qOrD39wPKcCB"
      }
    },
    {
      "cell_type": "markdown",
      "source": [
        "ANS - No , keywords cannot be used as variable name ."
      ],
      "metadata": {
        "id": "0-T9LspEKxra"
      }
    },
    {
      "cell_type": "markdown",
      "source": [
        "5-What is mutability in Python ?"
      ],
      "metadata": {
        "id": "rBmOlUraK_Dn"
      }
    },
    {
      "cell_type": "markdown",
      "source": [
        "ANS- In Python , mutability refers to the capability of an object to be changed or modified after its creation ."
      ],
      "metadata": {
        "id": "FZDupFgtNF8W"
      }
    },
    {
      "cell_type": "markdown",
      "source": [
        "6- Why are lists mutable , but tuples are immutable ?"
      ],
      "metadata": {
        "id": "BnI0iTcqNuha"
      }
    },
    {
      "cell_type": "markdown",
      "source": [
        "ANS - Lists are mutable because their contents can be changed after creation and tuples are immutabe because their contents cannot be changed after creation ."
      ],
      "metadata": {
        "id": "VWZRwfXAN80s"
      }
    },
    {
      "cell_type": "markdown",
      "source": [
        "7-What is difference between \"==\" and \"is\" operators in Python ?"
      ],
      "metadata": {
        "id": "3JPJKBnAPh8X"
      }
    },
    {
      "cell_type": "markdown",
      "source": [
        "ANS - In Python ,\" ==\" and\"is \" operators are both used for comparison but they serve different purposes . The \"==\" opertor checks for equality of values which means it evaluates whether the values of two objects are the same . On the other hand , \"is \"operator checks for identity , meaning it determines whether two variables point to the same object in memory ."
      ],
      "metadata": {
        "id": "5BDeYZCjP6Ky"
      }
    },
    {
      "cell_type": "markdown",
      "source": [
        "8- What are logical operators in Python ?"
      ],
      "metadata": {
        "id": "DunlG1wFRytX"
      }
    },
    {
      "cell_type": "markdown",
      "source": [
        "ANS - Logical operators in Python are used to combine or modify Boolean values ( True or False ) to make decisions in code . Example - and , or , not ."
      ],
      "metadata": {
        "id": "USw3mvgGSAfd"
      }
    },
    {
      "cell_type": "markdown",
      "source": [
        "9-What is type casting in Python ?"
      ],
      "metadata": {
        "id": "fSrmhWvPSuv9"
      }
    },
    {
      "cell_type": "markdown",
      "source": [
        "ANS -Type casting in Python is the process of the converting a variable's data type from one type to another. it is also known as type conversion ."
      ],
      "metadata": {
        "id": "EKAY0S5sS5L6"
      }
    },
    {
      "cell_type": "markdown",
      "source": [
        "10-What is the difference between implicit and explicit type casting ?"
      ],
      "metadata": {
        "id": "X6-9YTFsTfuF"
      }
    },
    {
      "cell_type": "markdown",
      "source": [
        "ANS - The main difference between implicit and explicit type casting is that implicit type happens automatically , while explicit type casting requires the programmer to intervene."
      ],
      "metadata": {
        "id": "9ne2ZJjVT0sB"
      }
    },
    {
      "cell_type": "markdown",
      "source": [
        "11- What is the purpose of conditional statements in Python ?"
      ],
      "metadata": {
        "id": "f6Z7Kn34Ugxz"
      }
    },
    {
      "cell_type": "markdown",
      "source": [
        "ANS -A conditional statement as the name suggest itself , is used to handle conditions in your program . These statements guide the program while making decisions based on the conditions encountered by the program ."
      ],
      "metadata": {
        "id": "4iC0lZsFUz2E"
      }
    },
    {
      "cell_type": "markdown",
      "source": [
        "12- How does the elif statement work ?"
      ],
      "metadata": {
        "id": "Ky-7kfazVxYv"
      }
    },
    {
      "cell_type": "markdown",
      "source": [
        "ANS -The \" elif \" keyword in Python , stands for \" else if \" . it can be used in conditional statements to check for multiple conditions . for example -if the first condition is false , it moves on to the next \" elif\" statement to check if that condition is true ."
      ],
      "metadata": {
        "id": "qqK2z5S6V6Zh"
      }
    },
    {
      "cell_type": "markdown",
      "source": [
        "13- What is the difference between for and while loops ?"
      ],
      "metadata": {
        "id": "iRl_wmPbW9C1"
      }
    },
    {
      "cell_type": "markdown",
      "source": [
        "ANS- The main difference between a for loop and while loop is that a for loop is used when the number of iterations is known , while a while loop is used when the number of iterations is unknown ."
      ],
      "metadata": {
        "id": "AoLemf2ZXM7Q"
      }
    },
    {
      "cell_type": "markdown",
      "source": [
        "14-Describe a scenario where a while loop is more suitable than a for loop ."
      ],
      "metadata": {
        "id": "-efOtQ7tX45p"
      }
    },
    {
      "cell_type": "markdown",
      "source": [
        "ANS - In contrast to a for loop , which is generally used when the number of iterations is known beforehand , a while loop is ideal for situations where the number of iterations is not predetermined and depends on some dynamic condition."
      ],
      "metadata": {
        "id": "fGza0QVKYJot"
      }
    },
    {
      "cell_type": "markdown",
      "source": [
        "# PRACTICAL QUESTIONS **ANSWERS**"
      ],
      "metadata": {
        "id": "0o30Q2P0O0LP"
      }
    },
    {
      "cell_type": "markdown",
      "source": [],
      "metadata": {
        "id": "ujTiEcYuZlmc"
      }
    },
    {
      "cell_type": "code",
      "source": [
        "# Write a Python program to print \"Hello,World!\"\n",
        "...\n",
        "print(\"Hello,World!\")\n",
        "..."
      ],
      "metadata": {
        "id": "7VojmU_5TVgn",
        "colab": {
          "base_uri": "https://localhost:8080/"
        },
        "outputId": "21af128d-3362-47c5-c270-e47614fdbd90"
      },
      "execution_count": null,
      "outputs": [
        {
          "output_type": "stream",
          "name": "stdout",
          "text": [
            "Hello,World!\n"
          ]
        }
      ]
    },
    {
      "cell_type": "code",
      "source": [
        "# Write a Python program that displays your name and age.\n",
        "...\n",
        "name = (\"Aman\")\n",
        "age = (\"20\")\n",
        "print(name,age)\n",
        "..."
      ],
      "metadata": {
        "colab": {
          "base_uri": "https://localhost:8080/"
        },
        "id": "4VMSMAGPrNlK",
        "outputId": "25feba6f-9569-4d4f-b6d0-5f1e00cb3d2d"
      },
      "execution_count": null,
      "outputs": [
        {
          "output_type": "stream",
          "name": "stdout",
          "text": [
            "Aman 20\n"
          ]
        }
      ]
    },
    {
      "cell_type": "code",
      "source": [
        "# Write code to print all the pre-defined keywords in Python using the keyword library.\n",
        "...\n",
        "import keyword\n",
        "print(keyword.kwlist)\n",
        "...\n"
      ],
      "metadata": {
        "colab": {
          "base_uri": "https://localhost:8080/"
        },
        "id": "gYXiQUtSrvRt",
        "outputId": "a46c6f82-269c-4199-9826-5f38923277cd"
      },
      "execution_count": null,
      "outputs": [
        {
          "output_type": "stream",
          "name": "stdout",
          "text": [
            "['False', 'None', 'True', 'and', 'as', 'assert', 'async', 'await', 'break', 'class', 'continue', 'def', 'del', 'elif', 'else', 'except', 'finally', 'for', 'from', 'global', 'if', 'import', 'in', 'is', 'lambda', 'nonlocal', 'not', 'or', 'pass', 'raise', 'return', 'try', 'while', 'with', 'yield']\n"
          ]
        }
      ]
    },
    {
      "cell_type": "code",
      "source": [
        "# Write a program that checks if a given word is a Python keyword.\n",
        "...\n",
        "import keyword\n",
        "word = (\"if\")\n",
        "if keyword.iskeyword(word):\n",
        "  print(\"f{word}is a python keyword. \")\n",
        "...\n"
      ],
      "metadata": {
        "colab": {
          "base_uri": "https://localhost:8080/"
        },
        "id": "ULG6U8hTsZFC",
        "outputId": "002462ea-78a8-4b9e-bbef-2c37714c1c1e"
      },
      "execution_count": null,
      "outputs": [
        {
          "output_type": "stream",
          "name": "stdout",
          "text": [
            "f{word}is a python keyword. \n"
          ]
        }
      ]
    },
    {
      "cell_type": "code",
      "source": [
        "# Create a list and tuple in Python,and demonstrate how attempting to change an element works differently for each.\n",
        "...\n",
        "a = [1,2,3]\n",
        "b = ['apple','banana','cherry']\n",
        "print(a)\n",
        "print(b)\n",
        "..."
      ],
      "metadata": {
        "colab": {
          "base_uri": "https://localhost:8080/"
        },
        "id": "pz68l5BOtc_W",
        "outputId": "50861afc-b10b-4be6-a7bc-cbef9167d508"
      },
      "execution_count": null,
      "outputs": [
        {
          "output_type": "stream",
          "name": "stdout",
          "text": [
            "[1, 2, 3]\n",
            "['apple', 'banana', 'cherry']\n"
          ]
        }
      ]
    },
    {
      "cell_type": "code",
      "source": [
        "# Write a function to demonstrate the behavior of mutable and immutable arguments.\n",
        "...\n",
        "def f(ParamList):\n",
        "    b = ParamList[1]\n",
        "    a = ParamList[0]\n",
        "\n",
        "\n"
      ],
      "metadata": {
        "id": "oS7p80qku1K0"
      },
      "execution_count": null,
      "outputs": []
    },
    {
      "cell_type": "code",
      "source": [
        "# Write a function to demonstrate the behavior of mutable and immutable agruments.\n",
        "...\n"
      ],
      "metadata": {
        "id": "9r-gWYCUsrNh"
      },
      "execution_count": null,
      "outputs": []
    },
    {
      "cell_type": "code",
      "source": [
        "# Write a program to demonstrate the use of the logical operators .\n",
        "...\n",
        "int main()\n",
        " a = 10\n",
        " b = 20\n",
        "\n",
        "if a > 0 and b > 0:\n",
        "   print(\"Both a and b are postive.\")\n",
        "\n",
        "if a > 0 or b > 0:\n",
        "   print(\"Either a or b is greater than zero (or both).\")\n",
        "..."
      ],
      "metadata": {
        "id": "sZnjZHgutLWK"
      },
      "execution_count": null,
      "outputs": []
    },
    {
      "cell_type": "code",
      "source": [
        "# Write a Python program to convert user input from string to integer,float,and boolean types.\n",
        "...\n",
        "s = \"42\"\n",
        "num = int(s)\n",
        "print(num)\n",
        "string = \"33.28\"\n",
        "num = float(string)\n",
        "print(num)\n",
        "string = \"True\"\n",
        "bool_value = bool(string)\n",
        "print(bool_value)\n",
        "...\n"
      ],
      "metadata": {
        "colab": {
          "base_uri": "https://localhost:8080/"
        },
        "id": "VFFNkOLxxKkH",
        "outputId": "bfb6cf8b-3992-4987-fa0a-2ec8e8f67aa0"
      },
      "execution_count": 7,
      "outputs": [
        {
          "output_type": "stream",
          "name": "stdout",
          "text": [
            "42\n",
            "33.28\n",
            "True\n"
          ]
        }
      ]
    },
    {
      "cell_type": "code",
      "source": [
        "# Write code to demonstrate type casting with list elements.\n",
        "...\n",
        "a = 5\n",
        "n = float(a)\n",
        "print(n)\n",
        "print(type(n))\n",
        "..."
      ],
      "metadata": {
        "colab": {
          "base_uri": "https://localhost:8080/"
        },
        "id": "1qiuUSt4zddQ",
        "outputId": "e2f51760-69bb-42a9-c601-79ec8cf64ee3"
      },
      "execution_count": 8,
      "outputs": [
        {
          "output_type": "stream",
          "name": "stdout",
          "text": [
            "5.0\n",
            "<class 'float'>\n"
          ]
        }
      ]
    },
    {
      "cell_type": "code",
      "source": [
        "# Write a program that checks if a number is positive,negative,orzero.\n",
        "...\n",
        "num = float(input(\"23:\"))\n",
        "if num > 0:\n",
        "   print(\"Positive number\")\n",
        "elif num == 0:\n",
        "   print(\"Zero\")\n",
        "else:\n",
        "   print(\"Negative number\")\n",
        "...\n"
      ],
      "metadata": {
        "id": "Tn9MVg2D0keI"
      },
      "execution_count": null,
      "outputs": []
    },
    {
      "cell_type": "code",
      "source": [
        "# Write a for loop to print numbers from 1 to 10.\n",
        "...\n",
        "for i in range(1, 11):\n",
        "    print(i)\n",
        "..."
      ],
      "metadata": {
        "id": "Rr9Axa2X2fRr"
      },
      "execution_count": null,
      "outputs": []
    },
    {
      "cell_type": "code",
      "source": [
        "# Write a Python program to find the sum off all even numbers between 1 and 50.\n",
        "...\n",
        "sum = 0\n",
        "for i in range(1, 51):\n",
        "    if i % 2 == 0:\n",
        "        sum += i\n",
        "        print(sum)\n",
        "..."
      ],
      "metadata": {
        "id": "u7I_KIrT3dvx"
      },
      "execution_count": null,
      "outputs": []
    },
    {
      "cell_type": "code",
      "source": [
        "# Write a program to reverse a string using a while loop.\n",
        "...\n",
        "name= str((input(\"Aman\")))\n",
        "i = len(name)\n",
        "reverse = \"\"\n",
        "while i in range (len(name)) > 0:\n",
        "  reverse += name[i - 1]\n",
        "  i = i - 1\n",
        "  print(reverse)\n",
        "..."
      ],
      "metadata": {
        "id": "aC5tZYbM4gSZ"
      },
      "execution_count": null,
      "outputs": []
    },
    {
      "cell_type": "code",
      "source": [
        "# Write a Python program to calculate the factorial of a number provided by the user using a while loop.\n",
        "...\n",
        "num = int(input(\"24: \"))\n",
        "factorial = 1\n",
        "i = 1\n",
        "while i <= num:\n",
        "    factorial  *= 1\n",
        "     i += 1\n",
        "print(f\"The factorial of {num} is {factorial}\")\n",
        "..."
      ],
      "metadata": {
        "id": "-2ZCckZM6AXo"
      },
      "execution_count": null,
      "outputs": []
    }
  ]
}